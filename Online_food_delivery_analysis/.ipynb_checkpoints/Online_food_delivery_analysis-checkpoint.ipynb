{
 "cells": [
  {
   "cell_type": "markdown",
   "metadata": {},
   "source": [
    "## Takeaway food data analysis (Indian restaurants in London)"
   ]
  },
  {
   "cell_type": "code",
   "execution_count": 1,
   "metadata": {},
   "outputs": [],
   "source": [
    "import pandas as pd\n",
    "import numpy as np\n",
    "import matplotlib.pyplot as plt\n",
    "%matplotlib inline"
   ]
  },
  {
   "cell_type": "code",
   "execution_count": 3,
   "metadata": {},
   "outputs": [
    {
     "data": {
      "text/html": [
       "<div>\n",
       "<style scoped>\n",
       "    .dataframe tbody tr th:only-of-type {\n",
       "        vertical-align: middle;\n",
       "    }\n",
       "\n",
       "    .dataframe tbody tr th {\n",
       "        vertical-align: top;\n",
       "    }\n",
       "\n",
       "    .dataframe thead th {\n",
       "        text-align: right;\n",
       "    }\n",
       "</style>\n",
       "<table border=\"1\" class=\"dataframe\">\n",
       "  <thead>\n",
       "    <tr style=\"text-align: right;\">\n",
       "      <th></th>\n",
       "      <th>Order ID</th>\n",
       "      <th>Order Date</th>\n",
       "      <th>Item Name</th>\n",
       "      <th>Quantity</th>\n",
       "      <th>Product Price</th>\n",
       "      <th>Total products</th>\n",
       "    </tr>\n",
       "  </thead>\n",
       "  <tbody>\n",
       "    <tr>\n",
       "      <th>0</th>\n",
       "      <td>25583</td>\n",
       "      <td>03/08/2019 21:58</td>\n",
       "      <td>Tandoori Mixed Grill</td>\n",
       "      <td>1</td>\n",
       "      <td>11.95</td>\n",
       "      <td>12</td>\n",
       "    </tr>\n",
       "    <tr>\n",
       "      <th>1</th>\n",
       "      <td>25583</td>\n",
       "      <td>03/08/2019 21:58</td>\n",
       "      <td>Madras Sauce</td>\n",
       "      <td>1</td>\n",
       "      <td>3.95</td>\n",
       "      <td>12</td>\n",
       "    </tr>\n",
       "    <tr>\n",
       "      <th>2</th>\n",
       "      <td>25583</td>\n",
       "      <td>03/08/2019 21:58</td>\n",
       "      <td>Mushroom Rice</td>\n",
       "      <td>2</td>\n",
       "      <td>3.95</td>\n",
       "      <td>12</td>\n",
       "    </tr>\n",
       "    <tr>\n",
       "      <th>3</th>\n",
       "      <td>25583</td>\n",
       "      <td>03/08/2019 21:58</td>\n",
       "      <td>Garlic Naan</td>\n",
       "      <td>1</td>\n",
       "      <td>2.95</td>\n",
       "      <td>12</td>\n",
       "    </tr>\n",
       "    <tr>\n",
       "      <th>4</th>\n",
       "      <td>25583</td>\n",
       "      <td>03/08/2019 21:58</td>\n",
       "      <td>Paratha</td>\n",
       "      <td>1</td>\n",
       "      <td>2.95</td>\n",
       "      <td>12</td>\n",
       "    </tr>\n",
       "  </tbody>\n",
       "</table>\n",
       "</div>"
      ],
      "text/plain": [
       "   Order ID        Order Date             Item Name  Quantity  Product Price  \\\n",
       "0     25583  03/08/2019 21:58  Tandoori Mixed Grill         1          11.95   \n",
       "1     25583  03/08/2019 21:58          Madras Sauce         1           3.95   \n",
       "2     25583  03/08/2019 21:58         Mushroom Rice         2           3.95   \n",
       "3     25583  03/08/2019 21:58           Garlic Naan         1           2.95   \n",
       "4     25583  03/08/2019 21:58               Paratha         1           2.95   \n",
       "\n",
       "   Total products  \n",
       "0              12  \n",
       "1              12  \n",
       "2              12  \n",
       "3              12  \n",
       "4              12  "
      ]
     },
     "execution_count": 3,
     "metadata": {},
     "output_type": "execute_result"
    }
   ],
   "source": [
    "df = pd.read_csv('restaurant-2-orders.csv')\n",
    "df.head()"
   ]
  },
  {
   "cell_type": "code",
   "execution_count": 4,
   "metadata": {},
   "outputs": [
    {
     "data": {
      "text/html": [
       "<div>\n",
       "<style scoped>\n",
       "    .dataframe tbody tr th:only-of-type {\n",
       "        vertical-align: middle;\n",
       "    }\n",
       "\n",
       "    .dataframe tbody tr th {\n",
       "        vertical-align: top;\n",
       "    }\n",
       "\n",
       "    .dataframe thead th {\n",
       "        text-align: right;\n",
       "    }\n",
       "</style>\n",
       "<table border=\"1\" class=\"dataframe\">\n",
       "  <thead>\n",
       "    <tr style=\"text-align: right;\">\n",
       "      <th></th>\n",
       "      <th>Order ID</th>\n",
       "      <th>Order Date</th>\n",
       "      <th>Item Name</th>\n",
       "      <th>Quantity</th>\n",
       "      <th>Product Price</th>\n",
       "      <th>Total products</th>\n",
       "    </tr>\n",
       "  </thead>\n",
       "  <tbody>\n",
       "    <tr>\n",
       "      <th>0</th>\n",
       "      <td>25583</td>\n",
       "      <td>2019-03-08 21:58:00</td>\n",
       "      <td>Tandoori Mixed Grill</td>\n",
       "      <td>1</td>\n",
       "      <td>11.95</td>\n",
       "      <td>12</td>\n",
       "    </tr>\n",
       "    <tr>\n",
       "      <th>1</th>\n",
       "      <td>25583</td>\n",
       "      <td>2019-03-08 21:58:00</td>\n",
       "      <td>Madras Sauce</td>\n",
       "      <td>1</td>\n",
       "      <td>3.95</td>\n",
       "      <td>12</td>\n",
       "    </tr>\n",
       "    <tr>\n",
       "      <th>2</th>\n",
       "      <td>25583</td>\n",
       "      <td>2019-03-08 21:58:00</td>\n",
       "      <td>Mushroom Rice</td>\n",
       "      <td>2</td>\n",
       "      <td>3.95</td>\n",
       "      <td>12</td>\n",
       "    </tr>\n",
       "    <tr>\n",
       "      <th>3</th>\n",
       "      <td>25583</td>\n",
       "      <td>2019-03-08 21:58:00</td>\n",
       "      <td>Garlic Naan</td>\n",
       "      <td>1</td>\n",
       "      <td>2.95</td>\n",
       "      <td>12</td>\n",
       "    </tr>\n",
       "    <tr>\n",
       "      <th>4</th>\n",
       "      <td>25583</td>\n",
       "      <td>2019-03-08 21:58:00</td>\n",
       "      <td>Paratha</td>\n",
       "      <td>1</td>\n",
       "      <td>2.95</td>\n",
       "      <td>12</td>\n",
       "    </tr>\n",
       "  </tbody>\n",
       "</table>\n",
       "</div>"
      ],
      "text/plain": [
       "   Order ID          Order Date             Item Name  Quantity  \\\n",
       "0     25583 2019-03-08 21:58:00  Tandoori Mixed Grill         1   \n",
       "1     25583 2019-03-08 21:58:00          Madras Sauce         1   \n",
       "2     25583 2019-03-08 21:58:00         Mushroom Rice         2   \n",
       "3     25583 2019-03-08 21:58:00           Garlic Naan         1   \n",
       "4     25583 2019-03-08 21:58:00               Paratha         1   \n",
       "\n",
       "   Product Price  Total products  \n",
       "0          11.95              12  \n",
       "1           3.95              12  \n",
       "2           3.95              12  \n",
       "3           2.95              12  \n",
       "4           2.95              12  "
      ]
     },
     "execution_count": 4,
     "metadata": {},
     "output_type": "execute_result"
    }
   ],
   "source": [
    "df = pd.read_csv('restaurant-2-orders.csv',parse_dates=['Order Date'])\n",
    "df.head()"
   ]
  },
  {
   "cell_type": "code",
   "execution_count": 5,
   "metadata": {},
   "outputs": [
    {
     "name": "stdout",
     "output_type": "stream",
     "text": [
      "<class 'pandas.core.frame.DataFrame'>\n",
      "RangeIndex: 119183 entries, 0 to 119182\n",
      "Data columns (total 6 columns):\n",
      " #   Column          Non-Null Count   Dtype         \n",
      "---  ------          --------------   -----         \n",
      " 0   Order ID        119183 non-null  int64         \n",
      " 1   Order Date      119183 non-null  datetime64[ns]\n",
      " 2   Item Name       119183 non-null  object        \n",
      " 3   Quantity        119183 non-null  int64         \n",
      " 4   Product Price   119183 non-null  float64       \n",
      " 5   Total products  119183 non-null  int64         \n",
      "dtypes: datetime64[ns](1), float64(1), int64(3), object(1)\n",
      "memory usage: 5.5+ MB\n"
     ]
    }
   ],
   "source": [
    "df.info()"
   ]
  },
  {
   "cell_type": "code",
   "execution_count": 8,
   "metadata": {
    "scrolled": true
   },
   "outputs": [
    {
     "name": "stdout",
     "output_type": "stream",
     "text": [
      "Total orders:  19658\n"
     ]
    }
   ],
   "source": [
    "print('Total orders: ', len(df['Order ID'].unique()))"
   ]
  },
  {
   "cell_type": "code",
   "execution_count": 24,
   "metadata": {
    "scrolled": true
   },
   "outputs": [
    {
     "name": "stdout",
     "output_type": "stream",
     "text": [
      "Total items:  337\n"
     ]
    }
   ],
   "source": [
    "print('Total items: ', len(df['Item Name'].unique()))"
   ]
  },
  {
   "cell_type": "code",
   "execution_count": 33,
   "metadata": {},
   "outputs": [
    {
     "data": {
      "text/plain": [
       "Text(0.5, 1.0, 'Top 10 sold items')"
      ]
     },
     "execution_count": 33,
     "metadata": {},
     "output_type": "execute_result"
    },
    {
     "data": {
      "image/png": "[encoded data removed]",
      "text/plain": [
       "<Figure size 720x360 with 1 Axes>"
      ]
     },
     "metadata": {
      "needs_background": "light"
     },
     "output_type": "display_data"
    }
   ],
   "source": [
    "item_freq = df.groupby('Item Name').agg({'Quantity': 'sum'})\n",
    "item_freq = item_freq.sort_values(by=['Quantity'])\n",
    "top_20 = item_freq.tail(20)\n",
    "top_20.plot(kind=\"barh\", figsize=(10,5))\n",
    "plt.title('Top 20 sold items')"
   ]
  },
  {
   "cell_type": "code",
   "execution_count": null,
   "metadata": {},
   "outputs": [],
   "source": []
  }
 ],
 "metadata": {
  "kernelspec": {
   "display_name": "Python 3",
   "language": "python",
   "name": "python3"
  },
  "language_info": {
   "codemirror_mode": {
    "name": "ipython",
    "version": 3
   },
   "file_extension": ".py",
   "mimetype": "text/x-python",
   "name": "python",
   "nbconvert_exporter": "python",
   "pygments_lexer": "ipython3",
   "version": "3.8.5"
  }
 },
 "nbformat": 4,
 "nbformat_minor": 4
}
